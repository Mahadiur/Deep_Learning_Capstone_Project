{
 "cells": [
  {
   "metadata": {},
   "cell_type": "markdown",
   "source": "### **RGB Image Classification Capstone Project**",
   "id": "2fc85314c1791f90"
  },
  {
   "metadata": {
    "ExecuteTime": {
     "end_time": "2025-08-26T10:15:15.348613Z",
     "start_time": "2025-08-26T10:15:15.345946Z"
    }
   },
   "cell_type": "code",
   "source": [
    "from torchgen.api.ufunc import kernel_name\n",
    "from webencodings import labels\n",
    "\n",
    "''' Import all Important Libraries '''\n",
    "import pandas as pd\n",
    "import torch\n",
    "import torch.nn as nn\n",
    "import torch.optim as optim\n",
    "from torchvision import datasets, transforms\n",
    "from torch.utils.data import DataLoader, Dataset"
   ],
   "id": "8b4bf6febe39fd86",
   "outputs": [],
   "execution_count": 261
  },
  {
   "metadata": {
    "ExecuteTime": {
     "end_time": "2025-08-26T10:15:15.357710Z",
     "start_time": "2025-08-26T10:15:15.354478Z"
    }
   },
   "cell_type": "code",
   "source": [
    "torch.manual_seed(40)\n",
    "Device = torch.device('cuda' if torch.cuda.is_available() else 'cpu')\n",
    "print('Using Device :',Device)"
   ],
   "id": "f30c8a973a69c578",
   "outputs": [
    {
     "name": "stdout",
     "output_type": "stream",
     "text": [
      "Using Device : cpu\n"
     ]
    }
   ],
   "execution_count": 262
  },
  {
   "metadata": {},
   "cell_type": "markdown",
   "source": "### **Data Pipeline**",
   "id": "d8cab1834c5352b8"
  },
  {
   "metadata": {
    "ExecuteTime": {
     "end_time": "2025-08-26T10:15:15.380353Z",
     "start_time": "2025-08-26T10:15:15.378814Z"
    }
   },
   "cell_type": "code",
   "source": [
    "Transformation = transforms.Compose([\n",
    "    transforms.ToTensor(),\n",
    "    transforms.Normalize(\n",
    "        mean=(0.5, 0.5, 0.5),\n",
    "        std=(0.5, 0.5, 0.5))\n",
    "    ])"
   ],
   "id": "c4265ea6fc634669",
   "outputs": [],
   "execution_count": 263
  },
  {
   "metadata": {
    "ExecuteTime": {
     "end_time": "2025-08-26T10:15:15.384122Z",
     "start_time": "2025-08-26T10:15:15.382251Z"
    }
   },
   "cell_type": "code",
   "source": [
    "class CIFAR10Dataset(Dataset):\n",
    "    def __init__(self, train=True, transform=None):\n",
    "        super().__init__()\n",
    "        self.dataset = datasets.CIFAR10(\n",
    "            root='./data',\n",
    "            train=train,\n",
    "            download=True,\n",
    "        )\n",
    "        self.transform = transform\n",
    "        self.classes = self.dataset.classes\n",
    "    def __len__(self):\n",
    "        return len(self.dataset)\n",
    "\n",
    "    def __getitem__(self, idx):\n",
    "        image, label = self.dataset[idx]\n",
    "        if self.transform:\n",
    "            image = self.transform(image)\n",
    "            return image, label"
   ],
   "id": "a3d1a42fd9358712",
   "outputs": [],
   "execution_count": 264
  },
  {
   "metadata": {
    "ExecuteTime": {
     "end_time": "2025-08-26T10:15:16.401327Z",
     "start_time": "2025-08-26T10:15:15.386299Z"
    }
   },
   "cell_type": "code",
   "source": [
    "Train_dataset = CIFAR10Dataset(train=True, transform=Transformation)\n",
    "Test_dataset = CIFAR10Dataset(train=False, transform=Transformation)\n",
    "print(len(Train_dataset))\n",
    "print(len(Test_dataset))"
   ],
   "id": "ba1cbd1007aa182",
   "outputs": [
    {
     "name": "stdout",
     "output_type": "stream",
     "text": [
      "50000\n",
      "10000\n"
     ]
    }
   ],
   "execution_count": 265
  },
  {
   "metadata": {
    "ExecuteTime": {
     "end_time": "2025-08-26T10:15:16.408938Z",
     "start_time": "2025-08-26T10:15:16.406485Z"
    }
   },
   "cell_type": "code",
   "source": [
    "example_image, example_label = Train_dataset[0]\n",
    "print(f'image shape:{example_image.shape}\\n label shape:{Train_dataset.classes[example_label]}')"
   ],
   "id": "e6a2c0ea3c879dc2",
   "outputs": [
    {
     "name": "stdout",
     "output_type": "stream",
     "text": [
      "image shape:torch.Size([3, 32, 32])\n",
      " label shape:frog\n"
     ]
    }
   ],
   "execution_count": 266
  },
  {
   "metadata": {},
   "cell_type": "markdown",
   "source": "### **Train, Test DataLoader**",
   "id": "4337ce7e36fd5554"
  },
  {
   "metadata": {
    "ExecuteTime": {
     "end_time": "2025-08-26T10:15:16.415703Z",
     "start_time": "2025-08-26T10:15:16.411476Z"
    }
   },
   "cell_type": "code",
   "source": [
    "Train_DataLoader = DataLoader(\n",
    "    dataset=Train_dataset,\n",
    "    batch_size=32,\n",
    "    shuffle=True\n",
    ")\n",
    "\n",
    "Test_DataLoader = DataLoader(\n",
    "    dataset=Test_dataset,\n",
    "    batch_size=32,\n",
    "    shuffle=False\n",
    ")"
   ],
   "id": "c4bfb8f799a70b0b",
   "outputs": [],
   "execution_count": 267
  },
  {
   "metadata": {},
   "cell_type": "markdown",
   "source": "### ***Convo > Pooling > Relu > Linear > Flatten***",
   "id": "22d754ab17f0a50"
  },
  {
   "metadata": {
    "ExecuteTime": {
     "end_time": "2025-08-26T10:15:16.419637Z",
     "start_time": "2025-08-26T10:15:16.417440Z"
    }
   },
   "cell_type": "code",
   "source": [
    "class MyImageNet(nn.Module):\n",
    "    def __init__(self):\n",
    "        super().__init__()\n",
    "        self.conv1 = nn.Conv2d(\n",
    "            in_channels=3,\n",
    "            out_channels=128,\n",
    "            kernel_size=3,\n",
    "            padding=1\n",
    "        )\n",
    "        self.pooling = nn.MaxPool2d(\n",
    "            kernel_size=2,\n",
    "            stride=2\n",
    "        )\n",
    "        self.relu = nn.ReLU()\n",
    "\n",
    "        self.conv2 = nn.Conv2d(\n",
    "            in_channels=128,\n",
    "            out_channels=512,\n",
    "            kernel_size=3,\n",
    "            padding=1\n",
    "        )\n",
    "\n",
    "        # self.conv3 = nn.Conv2d(\n",
    "        #     in_channels=128,\n",
    "        #     out_channels=256,\n",
    "        #     kernel_size=2,\n",
    "        #     padding=1\n",
    "        # )\n",
    "\n",
    "        self.Linear1 = nn.Linear(512 * 8 * 8, 128)\n",
    "        self.Linear2 = nn.Linear(128, 10)\n",
    "\n",
    "    def forward(self, x):\n",
    "        # First conv Layer\n",
    "        x = self.conv1(x)\n",
    "        x = self.relu(x)\n",
    "        x = self.pooling(x)\n",
    "\n",
    "        # Second Conv Layer\n",
    "        x = self.conv2(x)\n",
    "        x = self.relu(x)\n",
    "        x = self.pooling(x)\n",
    "\n",
    "        # # Third Conv Layer\n",
    "        # x =self.conv3(x)\n",
    "        # x = self.relu(x)\n",
    "        # x = self.pooling(x)\n",
    "\n",
    "\n",
    "        # Flatten\n",
    "        x = x.view(-1, 512 * 8 * 8)\n",
    "        x = self.Linear1(x) # Layer 1\n",
    "        x = self.relu(x)\n",
    "\n",
    "        x = self.Linear2(x) # Layer 2\n",
    "\n",
    "\n",
    "        return x"
   ],
   "id": "c95950718ffb9999",
   "outputs": [],
   "execution_count": 268
  },
  {
   "metadata": {
    "ExecuteTime": {
     "end_time": "2025-08-26T10:15:16.431015Z",
     "start_time": "2025-08-26T10:15:16.422325Z"
    }
   },
   "cell_type": "code",
   "source": [
    "Model = MyImageNet().to(Device)\n",
    "print(Model)"
   ],
   "id": "346a1dc3357415b5",
   "outputs": [
    {
     "name": "stdout",
     "output_type": "stream",
     "text": [
      "MyImageNet(\n",
      "  (conv1): Conv2d(3, 128, kernel_size=(3, 3), stride=(1, 1), padding=(1, 1))\n",
      "  (pooling): MaxPool2d(kernel_size=2, stride=2, padding=0, dilation=1, ceil_mode=False)\n",
      "  (relu): ReLU()\n",
      "  (conv2): Conv2d(128, 512, kernel_size=(3, 3), stride=(1, 1), padding=(1, 1))\n",
      "  (Linear1): Linear(in_features=32768, out_features=128, bias=True)\n",
      "  (Linear2): Linear(in_features=128, out_features=10, bias=True)\n",
      ")\n"
     ]
    }
   ],
   "execution_count": 269
  },
  {
   "metadata": {},
   "cell_type": "markdown",
   "source": "### **Train Model**",
   "id": "975f48ecf8da00c3"
  },
  {
   "metadata": {
    "ExecuteTime": {
     "end_time": "2025-08-26T10:37:45.189706Z",
     "start_time": "2025-08-26T10:15:16.435744Z"
    }
   },
   "cell_type": "code",
   "source": [
    "from tqdm import tqdm\n",
    "import os\n",
    "criterion = nn.CrossEntropyLoss()\n",
    "optimizer = optim.Adam(Model.parameters(), lr=0.01)\n",
    "num_epochs = 10\n",
    "criterion_losses = []\n",
    "for epoch in range(num_epochs):\n",
    "    Model.train()\n",
    "    running_loss = 0.0\n",
    "    batch=0\n",
    "\n",
    "\n",
    "    for images, label in tqdm(Train_DataLoader):\n",
    "        images, label = images.to(Device), label.to(Device)\n",
    "        batch += 1\n",
    "        optimizer.zero_grad()\n",
    "        outputs = Model(images)\n",
    "        loss = criterion(outputs, label)\n",
    "        loss.backward()\n",
    "        optimizer.step()\n",
    "        running_loss += loss.item()\n",
    "\n",
    "    epoch_loss = running_loss / len(Train_DataLoader)\n",
    "    criterion_losses.append(epoch_loss)\n",
    "    print(f'Epoch {epoch + 1}/{num_epochs} Loss: {epoch_loss:.3f}')\n",
    "\n",
    "import matplotlib.pyplot as plt\n",
    "plt.plot(criterion_losses)\n",
    "plt.xlabel('Epoch')\n",
    "plt.ylabel('Loss')\n",
    "plt.title('Training loss')\n",
    "plt.show()"
   ],
   "id": "4c6fff7b4bb24665",
   "outputs": [
    {
     "name": "stderr",
     "output_type": "stream",
     "text": [
      "100%|██████████| 1563/1563 [01:46<00:00, 14.71it/s]\n"
     ]
    },
    {
     "name": "stdout",
     "output_type": "stream",
     "text": [
      "Epoch 1/10 Loss: 2.018\n"
     ]
    },
    {
     "name": "stderr",
     "output_type": "stream",
     "text": [
      "100%|██████████| 1563/1563 [02:15<00:00, 11.56it/s]\n"
     ]
    },
    {
     "name": "stdout",
     "output_type": "stream",
     "text": [
      "Epoch 2/10 Loss: 1.755\n"
     ]
    },
    {
     "name": "stderr",
     "output_type": "stream",
     "text": [
      "100%|██████████| 1563/1563 [02:18<00:00, 11.27it/s]\n"
     ]
    },
    {
     "name": "stdout",
     "output_type": "stream",
     "text": [
      "Epoch 3/10 Loss: 1.698\n"
     ]
    },
    {
     "name": "stderr",
     "output_type": "stream",
     "text": [
      "100%|██████████| 1563/1563 [02:13<00:00, 11.70it/s]\n"
     ]
    },
    {
     "name": "stdout",
     "output_type": "stream",
     "text": [
      "Epoch 4/10 Loss: 1.668\n"
     ]
    },
    {
     "name": "stderr",
     "output_type": "stream",
     "text": [
      "100%|██████████| 1563/1563 [02:13<00:00, 11.74it/s]\n"
     ]
    },
    {
     "name": "stdout",
     "output_type": "stream",
     "text": [
      "Epoch 5/10 Loss: 1.643\n"
     ]
    },
    {
     "name": "stderr",
     "output_type": "stream",
     "text": [
      "100%|██████████| 1563/1563 [02:14<00:00, 11.62it/s]\n"
     ]
    },
    {
     "name": "stdout",
     "output_type": "stream",
     "text": [
      "Epoch 6/10 Loss: 1.604\n"
     ]
    },
    {
     "name": "stderr",
     "output_type": "stream",
     "text": [
      "100%|██████████| 1563/1563 [02:22<00:00, 10.96it/s]\n"
     ]
    },
    {
     "name": "stdout",
     "output_type": "stream",
     "text": [
      "Epoch 7/10 Loss: 1.558\n"
     ]
    },
    {
     "name": "stderr",
     "output_type": "stream",
     "text": [
      "100%|██████████| 1563/1563 [02:25<00:00, 10.76it/s]\n"
     ]
    },
    {
     "name": "stdout",
     "output_type": "stream",
     "text": [
      "Epoch 8/10 Loss: 1.533\n"
     ]
    },
    {
     "name": "stderr",
     "output_type": "stream",
     "text": [
      "100%|██████████| 1563/1563 [02:19<00:00, 11.20it/s]\n"
     ]
    },
    {
     "name": "stdout",
     "output_type": "stream",
     "text": [
      "Epoch 9/10 Loss: 1.487\n"
     ]
    },
    {
     "name": "stderr",
     "output_type": "stream",
     "text": [
      "100%|██████████| 1563/1563 [02:19<00:00, 11.18it/s]"
     ]
    },
    {
     "name": "stdout",
     "output_type": "stream",
     "text": [
      "Epoch 10/10 Loss: 1.459\n"
     ]
    },
    {
     "name": "stderr",
     "output_type": "stream",
     "text": [
      "\n"
     ]
    },
    {
     "data": {
      "text/plain": [
       "<Figure size 640x480 with 1 Axes>"
      ],
      "image/png": "[encoded data removed]"
     },
     "metadata": {},
     "output_type": "display_data"
    }
   ],
   "execution_count": 270
  },
  {
   "metadata": {},
   "cell_type": "markdown",
   "source": "### **Model Evaluation**",
   "id": "f1f4bdd4fa899882"
  },
  {
   "metadata": {
    "ExecuteTime": {
     "end_time": "2025-08-26T10:37:59.614722Z",
     "start_time": "2025-08-26T10:37:45.290Z"
    }
   },
   "cell_type": "code",
   "source": [
    "Model.eval()\n",
    "total = 0\n",
    "correct = 0\n",
    "with torch.no_grad():\n",
    "    for images, label in Test_DataLoader:\n",
    "        images, label = images.to(Device), label.to(Device)\n",
    "        outputs = Model(images)\n",
    "        _, Predict = torch.max(outputs.data, 1)\n",
    "        total += label.size(0)\n",
    "        correct += (Predict == label).sum().item()\n",
    "# KL Divergence\n",
    "import numpy as np\n",
    "from scipy.stats import entropy\n",
    "predict, _ = np.histogram(Predict, bins=50, density=True)\n",
    "outputs, _ = np.histogram(outputs, bins=50, density=True)\n",
    "kl_divergence = entropy(predict+1e-10, outputs+1e-10)\n",
    "best_model = 0\n",
    "Accuracy = 100 * correct / total\n",
    "print(f'Mode Accuracy: {Accuracy:.3f} & KL Divergence: {kl_divergence:.3f}')\n",
    "if Accuracy > best_model:\n",
    "    best_model = Accuracy\n",
    "    torch.save(Model.state_dict(), 'Best_Model.pt')\n"
   ],
   "id": "574aacfda151383b",
   "outputs": [
    {
     "name": "stdout",
     "output_type": "stream",
     "text": [
      "Mode Accuracy: 48.430 & KL Divergence: 2.534\n"
     ]
    }
   ],
   "execution_count": 271
  }
 ],
 "metadata": {
  "kernelspec": {
   "display_name": "Python 3",
   "language": "python",
   "name": "python3"
  },
  "language_info": {
   "codemirror_mode": {
    "name": "ipython",
    "version": 2
   },
   "file_extension": ".py",
   "mimetype": "text/x-python",
   "name": "python",
   "nbconvert_exporter": "python",
   "pygments_lexer": "ipython2",
   "version": "2.7.6"
  }
 },
 "nbformat": 4,
 "nbformat_minor": 5
}
