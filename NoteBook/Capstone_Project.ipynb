{
 "cells": [
  {
   "metadata": {},
   "cell_type": "markdown",
   "source": "### **RGB Image Classification Capstone Project**",
   "id": "2fc85314c1791f90"
  },
  {
   "metadata": {
    "ExecuteTime": {
     "end_time": "2025-08-25T09:06:51.587620Z",
     "start_time": "2025-08-25T09:06:51.583899Z"
    }
   },
   "cell_type": "code",
   "source": [
    "''' Import all Important Libraries '''\n",
    "import pandas as pd\n",
    "import torch\n",
    "import torch.nn as nn\n",
    "import torch.optim as optim\n",
    "from torchvision import datasets, transforms\n",
    "from torch.utils.data import DataLoader, Dataset"
   ],
   "id": "8b4bf6febe39fd86",
   "outputs": [],
   "execution_count": 64
  },
  {
   "metadata": {
    "ExecuteTime": {
     "end_time": "2025-08-25T09:06:51.597776Z",
     "start_time": "2025-08-25T09:06:51.593999Z"
    }
   },
   "cell_type": "code",
   "source": [
    "torch.manual_seed(50)\n",
    "Device = torch.device('cuda' if torch.cuda.is_available() else 'cpu')\n",
    "print('Using Device :',Device)"
   ],
   "id": "f30c8a973a69c578",
   "outputs": [
    {
     "name": "stdout",
     "output_type": "stream",
     "text": [
      "Using Device : cpu\n"
     ]
    }
   ],
   "execution_count": 65
  },
  {
   "metadata": {},
   "cell_type": "markdown",
   "source": "### **Data Pipeline**",
   "id": "d8cab1834c5352b8"
  },
  {
   "metadata": {
    "ExecuteTime": {
     "end_time": "2025-08-25T09:06:51.604456Z",
     "start_time": "2025-08-25T09:06:51.602816Z"
    }
   },
   "cell_type": "code",
   "source": [
    "Transformation = transforms.Compose([\n",
    "    transforms.ToTensor(),\n",
    "    transforms.Normalize(\n",
    "        mean=(0.5, 0.5, 0.5),\n",
    "        std=(0.5, 0.5, 0.5))\n",
    "    ])"
   ],
   "id": "c4265ea6fc634669",
   "outputs": [],
   "execution_count": 66
  },
  {
   "metadata": {
    "ExecuteTime": {
     "end_time": "2025-08-25T09:06:51.611613Z",
     "start_time": "2025-08-25T09:06:51.609594Z"
    }
   },
   "cell_type": "code",
   "source": [
    "class CIFAR10Dataset(Dataset):\n",
    "    def __init__(self, train=True, transform=None):\n",
    "        super().__init__()\n",
    "        self.dataset = datasets.CIFAR10(\n",
    "            root='./data',\n",
    "            train=train,\n",
    "            download=True,\n",
    "        )\n",
    "        self.transform = transform\n",
    "        self.classes = self.dataset.classes\n",
    "    def __len__(self):\n",
    "        return len(self.dataset)\n",
    "\n",
    "    def __getitem__(self, idx):\n",
    "        image, label = self.dataset[idx]\n",
    "        if self.transform:\n",
    "            image = self.transform(image)\n",
    "            return image, label"
   ],
   "id": "a3d1a42fd9358712",
   "outputs": [],
   "execution_count": 67
  },
  {
   "metadata": {
    "ExecuteTime": {
     "end_time": "2025-08-25T09:30:56.298183Z",
     "start_time": "2025-08-25T09:06:51.614320Z"
    }
   },
   "cell_type": "code",
   "source": [
    "Train_dataset = CIFAR10Dataset(train=True, transform=Transformation)\n",
    "Test_dataset = CIFAR10Dataset(train=False, transform=Transformation)\n",
    "print(len(Train_dataset))\n",
    "print(len(Test_dataset))"
   ],
   "id": "ba1cbd1007aa182",
   "outputs": [
    {
     "name": "stderr",
     "output_type": "stream",
     "text": [
      "100.0%\n"
     ]
    },
    {
     "name": "stdout",
     "output_type": "stream",
     "text": [
      "50000\n",
      "10000\n"
     ]
    }
   ],
   "execution_count": 68
  },
  {
   "metadata": {
    "ExecuteTime": {
     "end_time": "2025-08-25T09:30:56.306747Z",
     "start_time": "2025-08-25T09:30:56.304425Z"
    }
   },
   "cell_type": "code",
   "source": [
    "example_image, example_label = Train_dataset[0]\n",
    "print(f'image shape:{example_image.shape}\\n label shape:{Train_dataset.classes[example_label]}')"
   ],
   "id": "e6a2c0ea3c879dc2",
   "outputs": [
    {
     "name": "stdout",
     "output_type": "stream",
     "text": [
      "image shape:torch.Size([3, 32, 32])\n",
      " label shape:frog\n"
     ]
    }
   ],
   "execution_count": 69
  },
  {
   "metadata": {},
   "cell_type": "markdown",
   "source": "### **Train, Test DataLoader**",
   "id": "4337ce7e36fd5554"
  },
  {
   "metadata": {
    "ExecuteTime": {
     "end_time": "2025-08-25T09:30:56.337114Z",
     "start_time": "2025-08-25T09:30:56.333058Z"
    }
   },
   "cell_type": "code",
   "source": [
    "Train_DataLoader = DataLoader(\n",
    "    dataset=Train_dataset,\n",
    "    batch_size=8,\n",
    "    shuffle=True\n",
    ")\n",
    "\n",
    "Test_DataLoader = DataLoader(\n",
    "    dataset=Test_dataset,\n",
    "    batch_size=8,\n",
    "    shuffle=True\n",
    ")"
   ],
   "id": "c4bfb8f799a70b0b",
   "outputs": [],
   "execution_count": 70
  },
  {
   "metadata": {},
   "cell_type": "markdown",
   "source": "### ***Convo > Pooling > Relu > Linear > Flatten***",
   "id": "22d754ab17f0a50"
  },
  {
   "metadata": {},
   "cell_type": "code",
   "outputs": [],
   "execution_count": null,
   "source": [
    "class MyImageNet(nn.Module):\n",
    "    def __init__(self):\n",
    "        super().__init__()\n",
    "        self.conv1 = nn.Conv2d(\n",
    "            in_channels=3,\n",
    "            out_channels=64,\n",
    "            kernel_size=3,\n",
    "            padding=1\n",
    "        )\n",
    "        self.conv2 = nn.Conv2d(\n",
    "            in_channels=64,\n",
    "            out_channels=128,\n",
    "            kernel_size=3,\n",
    "            padding=1\n",
    "        )\n",
    "\n",
    "        self.pooling = nn.MaxPool2d(\n",
    "            kernel_size=2,\n",
    "            stride=2\n",
    "        )\n",
    "        self.relu = nn.ReLU()\n",
    "        self.Linear1 = nn.Linear(32 * 8 * 8, 256)\n",
    "        self.Linear2 = nn.Linear(256, 128)\n",
    "        self.Linear3 = nn.Linear(128, 10)\n",
    "\n",
    "\n",
    "    def forward(self, x):\n",
    "        # First conv Layer\n",
    "        x = self.conv1(x)\n",
    "        x = self.relu(x)\n",
    "        x = self.pooling(x)\n",
    "\n",
    "        # Second Conv Layer\n",
    "        x = self.conv2(x)\n",
    "        x = self.relu(x)\n",
    "        x = self.pooling(x)\n",
    "\n",
    "        # Flatten\n",
    "        x = x.view(-1, 32 * 8 * 8)\n",
    "        x = self.Linear1(x) # Layer 1\n",
    "        x = self.relu(x)\n",
    "\n",
    "        x = self.Linear2(x) # Layer 2\n",
    "        x = self.relu(x)\n",
    "\n",
    "        x = self.Linear3(x) # Layer3\n",
    "        return x"
   ],
   "id": "c95950718ffb9999"
  }
 ],
 "metadata": {
  "kernelspec": {
   "display_name": "Python 3",
   "language": "python",
   "name": "python3"
  },
  "language_info": {
   "codemirror_mode": {
    "name": "ipython",
    "version": 2
   },
   "file_extension": ".py",
   "mimetype": "text/x-python",
   "name": "python",
   "nbconvert_exporter": "python",
   "pygments_lexer": "ipython2",
   "version": "2.7.6"
  }
 },
 "nbformat": 4,
 "nbformat_minor": 5
}
