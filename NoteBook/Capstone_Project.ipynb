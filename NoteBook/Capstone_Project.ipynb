{
 "cells": [
  {
   "metadata": {},
   "cell_type": "markdown",
   "source": "### **RGB Image Classification Capstone Project**",
   "id": "2fc85314c1791f90"
  },
  {
   "metadata": {
    "ExecuteTime": {
     "end_time": "2025-08-30T15:30:25.652507Z",
     "start_time": "2025-08-30T15:30:25.650486Z"
    }
   },
   "cell_type": "code",
   "source": [
    "from pyasn1_modules.rfc3161 import Accuracy\n",
    "from torchgen.api.ufunc import kernel_name\n",
    "from webencodings import labels\n",
    "\n",
    "''' Import all Important Libraries '''\n",
    "import pandas as pd\n",
    "import torch\n",
    "import torch.nn as nn\n",
    "import torch.optim as optim\n",
    "from torchvision import datasets, transforms\n",
    "from torch.utils.data import DataLoader, Dataset"
   ],
   "id": "8b4bf6febe39fd86",
   "outputs": [],
   "execution_count": 51
  },
  {
   "metadata": {
    "ExecuteTime": {
     "end_time": "2025-08-30T15:30:25.660175Z",
     "start_time": "2025-08-30T15:30:25.656428Z"
    }
   },
   "cell_type": "code",
   "source": [
    "torch.manual_seed(40)\n",
    "Device = torch.device('cuda' if torch.cuda.is_available() else 'cpu')\n",
    "print('Using Device :',Device)"
   ],
   "id": "f30c8a973a69c578",
   "outputs": [
    {
     "name": "stdout",
     "output_type": "stream",
     "text": [
      "Using Device : cpu\n"
     ]
    }
   ],
   "execution_count": 52
  },
  {
   "metadata": {},
   "cell_type": "markdown",
   "source": "### **Data Pipeline**",
   "id": "d8cab1834c5352b8"
  },
  {
   "metadata": {
    "ExecuteTime": {
     "end_time": "2025-08-30T15:30:25.667869Z",
     "start_time": "2025-08-30T15:30:25.666393Z"
    }
   },
   "cell_type": "code",
   "source": [
    "Transformation = transforms.Compose([\n",
    "    transforms.ToTensor(),\n",
    "    transforms.Normalize(\n",
    "        mean=(0.5, 0.5, 0.5),\n",
    "        std=(0.5, 0.5, 0.5))\n",
    "    ])"
   ],
   "id": "c4265ea6fc634669",
   "outputs": [],
   "execution_count": 53
  },
  {
   "metadata": {
    "ExecuteTime": {
     "end_time": "2025-08-30T15:30:25.671927Z",
     "start_time": "2025-08-30T15:30:25.669936Z"
    }
   },
   "cell_type": "code",
   "source": [
    "class CIFAR10Dataset(Dataset):\n",
    "    def __init__(self, train=True, transform=None):\n",
    "        super().__init__()\n",
    "        self.dataset = datasets.CIFAR10(\n",
    "            root='./data',\n",
    "            train=train,\n",
    "            download=True,\n",
    "        )\n",
    "        self.transform = transform\n",
    "        self.classes = self.dataset.classes\n",
    "    def __len__(self):\n",
    "        return len(self.dataset)\n",
    "\n",
    "    def __getitem__(self, idx):\n",
    "        image, label = self.dataset[idx]\n",
    "        if self.transform:\n",
    "            image = self.transform(image)\n",
    "            return image, label"
   ],
   "id": "a3d1a42fd9358712",
   "outputs": [],
   "execution_count": 54
  },
  {
   "metadata": {
    "ExecuteTime": {
     "end_time": "2025-08-30T15:30:26.653436Z",
     "start_time": "2025-08-30T15:30:25.674664Z"
    }
   },
   "cell_type": "code",
   "source": [
    "Train_dataset = CIFAR10Dataset(train=True, transform=Transformation)\n",
    "Test_dataset = CIFAR10Dataset(train=False, transform=Transformation)\n",
    "print(len(Train_dataset))\n",
    "print(len(Test_dataset))"
   ],
   "id": "ba1cbd1007aa182",
   "outputs": [
    {
     "name": "stdout",
     "output_type": "stream",
     "text": [
      "50000\n",
      "10000\n"
     ]
    }
   ],
   "execution_count": 55
  },
  {
   "metadata": {
    "ExecuteTime": {
     "end_time": "2025-08-30T15:30:26.658965Z",
     "start_time": "2025-08-30T15:30:26.656562Z"
    }
   },
   "cell_type": "code",
   "source": [
    "example_image, example_label = Train_dataset[0]\n",
    "print(f'image shape:{example_image.shape}\\n label shape:{Train_dataset.classes[example_label]}')"
   ],
   "id": "e6a2c0ea3c879dc2",
   "outputs": [
    {
     "name": "stdout",
     "output_type": "stream",
     "text": [
      "image shape:torch.Size([3, 32, 32])\n",
      " label shape:frog\n"
     ]
    }
   ],
   "execution_count": 56
  },
  {
   "metadata": {},
   "cell_type": "markdown",
   "source": "### **Train, Test DataLoader**",
   "id": "4337ce7e36fd5554"
  },
  {
   "metadata": {
    "ExecuteTime": {
     "end_time": "2025-08-30T15:30:26.666773Z",
     "start_time": "2025-08-30T15:30:26.662531Z"
    }
   },
   "cell_type": "code",
   "source": [
    "Train_DataLoader = DataLoader(\n",
    "    dataset=Train_dataset,\n",
    "    batch_size=16,\n",
    "    shuffle=True\n",
    ")\n",
    "\n",
    "Test_DataLoader = DataLoader(\n",
    "    dataset=Test_dataset,\n",
    "    batch_size=16 ,\n",
    "    shuffle=False\n",
    ")"
   ],
   "id": "c4bfb8f799a70b0b",
   "outputs": [],
   "execution_count": 57
  },
  {
   "metadata": {},
   "cell_type": "markdown",
   "source": "### ***Convo > Pooling > Relu > Linear > Flatten***",
   "id": "22d754ab17f0a50"
  },
  {
   "metadata": {
    "ExecuteTime": {
     "end_time": "2025-08-30T15:30:26.678037Z",
     "start_time": "2025-08-30T15:30:26.675689Z"
    }
   },
   "cell_type": "code",
   "source": [
    "class MyImageNet(nn.Module):\n",
    "    def __init__(self):\n",
    "        super().__init__()\n",
    "        self.conv1 = nn.Conv2d(\n",
    "            in_channels=3,\n",
    "            out_channels=64,\n",
    "            kernel_size=3,\n",
    "            padding=1\n",
    "        )\n",
    "        self.pooling = nn.MaxPool2d(\n",
    "            kernel_size=2,\n",
    "            stride=2\n",
    "        )\n",
    "        self.relu = nn.ReLU()\n",
    "\n",
    "        self.conv2 = nn.Conv2d(\n",
    "            in_channels=64,\n",
    "            out_channels=128,\n",
    "            kernel_size=3,\n",
    "            padding=1\n",
    "        )\n",
    "\n",
    "        self.Linear1 = nn.Linear(128 * 8 * 8, 128)\n",
    "        self.Linear2 = nn.Linear(128, 10)\n",
    "\n",
    "    def forward(self, x):\n",
    "        # First conv Layer\n",
    "        x = self.conv1(x)\n",
    "        x = self.relu(x)\n",
    "        x = self.pooling(x)\n",
    "\n",
    "        # Second Conv Layer\n",
    "        x = self.conv2(x)\n",
    "        x = self.relu(x)\n",
    "        x = self.pooling(x)\n",
    "\n",
    "        # # Third Conv Layer\n",
    "        # x =self.conv3(x)\n",
    "        # x = self.relu(x)\n",
    "        # x = self.pooling(x)\n",
    "\n",
    "\n",
    "        # Flatten\n",
    "        x = x.view(-1, 128 * 8 * 8)\n",
    "        x = self.Linear1(x) # Layer 1\n",
    "        x = self.relu(x)\n",
    "\n",
    "        x = self.Linear2(x) # Layer 2\n",
    "\n",
    "\n",
    "        return x"
   ],
   "id": "c95950718ffb9999",
   "outputs": [],
   "execution_count": 58
  },
  {
   "metadata": {
    "ExecuteTime": {
     "end_time": "2025-08-30T15:30:26.684758Z",
     "start_time": "2025-08-30T15:30:26.681093Z"
    }
   },
   "cell_type": "code",
   "source": [
    "Model = MyImageNet().to(Device)\n",
    "print(Model)"
   ],
   "id": "346a1dc3357415b5",
   "outputs": [
    {
     "name": "stdout",
     "output_type": "stream",
     "text": [
      "MyImageNet(\n",
      "  (conv1): Conv2d(3, 64, kernel_size=(3, 3), stride=(1, 1), padding=(1, 1))\n",
      "  (pooling): MaxPool2d(kernel_size=2, stride=2, padding=0, dilation=1, ceil_mode=False)\n",
      "  (relu): ReLU()\n",
      "  (conv2): Conv2d(64, 128, kernel_size=(3, 3), stride=(1, 1), padding=(1, 1))\n",
      "  (Linear1): Linear(in_features=8192, out_features=128, bias=True)\n",
      "  (Linear2): Linear(in_features=128, out_features=10, bias=True)\n",
      ")\n"
     ]
    }
   ],
   "execution_count": 59
  },
  {
   "metadata": {},
   "cell_type": "markdown",
   "source": "### **Train Model**",
   "id": "975f48ecf8da00c3"
  },
  {
   "metadata": {
    "ExecuteTime": {
     "end_time": "2025-08-30T15:45:34.107992Z",
     "start_time": "2025-08-30T15:30:26.690514Z"
    }
   },
   "cell_type": "code",
   "source": [
    "from sklearn.metrics import accuracy_score\n",
    "from tqdm import tqdm\n",
    "import os\n",
    "criterion = nn.CrossEntropyLoss()\n",
    "optimizer = optim.Adam(Model.parameters(), lr=0.001)\n",
    "num_epochs = 20\n",
    "criterion_losses = []\n",
    "for epoch in range(num_epochs):\n",
    "    Model.train()\n",
    "    running_loss = 0.0\n",
    "    Accuracy = 0.0\n",
    "    batch=0\n",
    "\n",
    "\n",
    "    for images, label in tqdm(Train_DataLoader):\n",
    "        images, label = images.to(Device), label.to(Device)\n",
    "        batch += 1\n",
    "        optimizer.zero_grad()\n",
    "        outputs = Model(images)\n",
    "        loss = criterion(outputs, label)\n",
    "        loss.backward()\n",
    "        optimizer.step()\n",
    "        running_loss += loss.item()\n",
    "\n",
    "\n",
    "    epoch_loss = running_loss / len(Train_DataLoader)\n",
    "    criterion_losses.append(epoch_loss)\n",
    "    print(f'Epoch {epoch + 1}/{num_epochs} Loss: {epoch_loss:.3f}')\n",
    "\n",
    "import matplotlib.pyplot as plt\n",
    "plt.plot(criterion_losses)\n",
    "plt.xlabel('Epoch')\n",
    "plt.ylabel('Loss')\n",
    "plt.title('Training loss')\n",
    "plt.show()"
   ],
   "id": "4c6fff7b4bb24665",
   "outputs": [
    {
     "name": "stderr",
     "output_type": "stream",
     "text": [
      "100%|██████████| 3125/3125 [00:41<00:00, 75.49it/s]\n"
     ]
    },
    {
     "name": "stdout",
     "output_type": "stream",
     "text": [
      "Epoch 1/20 Loss: 1.276\n"
     ]
    },
    {
     "name": "stderr",
     "output_type": "stream",
     "text": [
      "100%|██████████| 3125/3125 [00:41<00:00, 75.63it/s]\n"
     ]
    },
    {
     "name": "stdout",
     "output_type": "stream",
     "text": [
      "Epoch 2/20 Loss: 0.926\n"
     ]
    },
    {
     "name": "stderr",
     "output_type": "stream",
     "text": [
      "100%|██████████| 3125/3125 [00:41<00:00, 75.61it/s]\n"
     ]
    },
    {
     "name": "stdout",
     "output_type": "stream",
     "text": [
      "Epoch 3/20 Loss: 0.789\n"
     ]
    },
    {
     "name": "stderr",
     "output_type": "stream",
     "text": [
      "100%|██████████| 3125/3125 [00:41<00:00, 75.58it/s]\n"
     ]
    },
    {
     "name": "stdout",
     "output_type": "stream",
     "text": [
      "Epoch 4/20 Loss: 0.689\n"
     ]
    },
    {
     "name": "stderr",
     "output_type": "stream",
     "text": [
      "100%|██████████| 3125/3125 [00:41<00:00, 75.43it/s]\n"
     ]
    },
    {
     "name": "stdout",
     "output_type": "stream",
     "text": [
      "Epoch 5/20 Loss: 0.610\n"
     ]
    },
    {
     "name": "stderr",
     "output_type": "stream",
     "text": [
      "100%|██████████| 3125/3125 [00:55<00:00, 56.05it/s]\n"
     ]
    },
    {
     "name": "stdout",
     "output_type": "stream",
     "text": [
      "Epoch 6/20 Loss: 0.539\n"
     ]
    },
    {
     "name": "stderr",
     "output_type": "stream",
     "text": [
      "100%|██████████| 3125/3125 [01:11<00:00, 43.49it/s]\n"
     ]
    },
    {
     "name": "stdout",
     "output_type": "stream",
     "text": [
      "Epoch 7/20 Loss: 0.480\n"
     ]
    },
    {
     "name": "stderr",
     "output_type": "stream",
     "text": [
      "100%|██████████| 3125/3125 [00:42<00:00, 74.16it/s]\n"
     ]
    },
    {
     "name": "stdout",
     "output_type": "stream",
     "text": [
      "Epoch 8/20 Loss: 0.426\n"
     ]
    },
    {
     "name": "stderr",
     "output_type": "stream",
     "text": [
      "100%|██████████| 3125/3125 [00:42<00:00, 72.81it/s]\n"
     ]
    },
    {
     "name": "stdout",
     "output_type": "stream",
     "text": [
      "Epoch 9/20 Loss: 0.370\n"
     ]
    },
    {
     "name": "stderr",
     "output_type": "stream",
     "text": [
      "100%|██████████| 3125/3125 [00:42<00:00, 72.92it/s]\n"
     ]
    },
    {
     "name": "stdout",
     "output_type": "stream",
     "text": [
      "Epoch 10/20 Loss: 0.327\n"
     ]
    },
    {
     "name": "stderr",
     "output_type": "stream",
     "text": [
      "100%|██████████| 3125/3125 [00:42<00:00, 72.79it/s]\n"
     ]
    },
    {
     "name": "stdout",
     "output_type": "stream",
     "text": [
      "Epoch 11/20 Loss: 0.292\n"
     ]
    },
    {
     "name": "stderr",
     "output_type": "stream",
     "text": [
      "100%|██████████| 3125/3125 [00:42<00:00, 72.84it/s]\n"
     ]
    },
    {
     "name": "stdout",
     "output_type": "stream",
     "text": [
      "Epoch 12/20 Loss: 0.257\n"
     ]
    },
    {
     "name": "stderr",
     "output_type": "stream",
     "text": [
      "100%|██████████| 3125/3125 [00:42<00:00, 73.03it/s]\n"
     ]
    },
    {
     "name": "stdout",
     "output_type": "stream",
     "text": [
      "Epoch 13/20 Loss: 0.227\n"
     ]
    },
    {
     "name": "stderr",
     "output_type": "stream",
     "text": [
      "100%|██████████| 3125/3125 [00:59<00:00, 52.48it/s]\n"
     ]
    },
    {
     "name": "stdout",
     "output_type": "stream",
     "text": [
      "Epoch 14/20 Loss: 0.200\n"
     ]
    },
    {
     "name": "stderr",
     "output_type": "stream",
     "text": [
      "100%|██████████| 3125/3125 [00:41<00:00, 75.78it/s]\n"
     ]
    },
    {
     "name": "stdout",
     "output_type": "stream",
     "text": [
      "Epoch 15/20 Loss: 0.186\n"
     ]
    },
    {
     "name": "stderr",
     "output_type": "stream",
     "text": [
      "100%|██████████| 3125/3125 [00:41<00:00, 75.65it/s]\n"
     ]
    },
    {
     "name": "stdout",
     "output_type": "stream",
     "text": [
      "Epoch 16/20 Loss: 0.171\n"
     ]
    },
    {
     "name": "stderr",
     "output_type": "stream",
     "text": [
      "100%|██████████| 3125/3125 [00:42<00:00, 73.29it/s]\n"
     ]
    },
    {
     "name": "stdout",
     "output_type": "stream",
     "text": [
      "Epoch 17/20 Loss: 0.151\n"
     ]
    },
    {
     "name": "stderr",
     "output_type": "stream",
     "text": [
      "100%|██████████| 3125/3125 [00:44<00:00, 70.45it/s]\n"
     ]
    },
    {
     "name": "stdout",
     "output_type": "stream",
     "text": [
      "Epoch 18/20 Loss: 0.146\n"
     ]
    },
    {
     "name": "stderr",
     "output_type": "stream",
     "text": [
      "100%|██████████| 3125/3125 [00:43<00:00, 71.47it/s]\n"
     ]
    },
    {
     "name": "stdout",
     "output_type": "stream",
     "text": [
      "Epoch 19/20 Loss: 0.137\n"
     ]
    },
    {
     "name": "stderr",
     "output_type": "stream",
     "text": [
      "100%|██████████| 3125/3125 [00:43<00:00, 72.24it/s]\n"
     ]
    },
    {
     "name": "stdout",
     "output_type": "stream",
     "text": [
      "Epoch 20/20 Loss: 0.132\n"
     ]
    },
    {
     "data": {
      "text/plain": [
       "<Figure size 640x480 with 1 Axes>"
      ],
      "image/png": "[encoded data removed]"
     },
     "metadata": {},
     "output_type": "display_data"
    }
   ],
   "execution_count": 60
  },
  {
   "metadata": {},
   "cell_type": "markdown",
   "source": "### **Model Evaluation**",
   "id": "f1f4bdd4fa899882"
  },
  {
   "metadata": {
    "ExecuteTime": {
     "end_time": "2025-08-30T15:47:25.062333Z",
     "start_time": "2025-08-30T15:47:21.439522Z"
    }
   },
   "cell_type": "code",
   "source": [
    "import numpy as np\n",
    "Model.eval()\n",
    "total = 0\n",
    "correct = 0\n",
    "with torch.no_grad():\n",
    "    for images, label in Test_DataLoader:\n",
    "        images, label = images.to(Device), label.to(Device)\n",
    "        outputs = Model(images)\n",
    "        _, Predict = torch.max(outputs.data, 1)\n",
    "        total += label.size(0)\n",
    "        correct += (Predict == label).sum().item()\n",
    "# KL Divergence\n",
    "\n",
    "from scipy.stats import entropy\n",
    "predict, _ = np.histogram(Predict, bins=50, density=True)\n",
    "outputs, _ = np.histogram(outputs, bins=50, density=True)\n",
    "kl_divergence = entropy(predict+1e-10, outputs+1e-10)\n",
    "best_model = 0\n",
    "Accuracy = 100 * correct / total\n",
    "print(f'Mode Accuracy: {Accuracy:.3f}, KL Divergence: {kl_divergence:.3f}')\n",
    "if Accuracy > best_model:\n",
    "    best_model = Accuracy\n",
    "    torch.save(Model.state_dict(), 'Best_Model.pth')\n"
   ],
   "id": "574aacfda151383b",
   "outputs": [
    {
     "name": "stdout",
     "output_type": "stream",
     "text": [
      "Mode Accuracy: 67.600, KL Divergence: 2.241\n"
     ]
    }
   ],
   "execution_count": 63
  }
 ],
 "metadata": {
  "kernelspec": {
   "display_name": "Python 3",
   "language": "python",
   "name": "python3"
  },
  "language_info": {
   "codemirror_mode": {
    "name": "ipython",
    "version": 2
   },
   "file_extension": ".py",
   "mimetype": "text/x-python",
   "name": "python",
   "nbconvert_exporter": "python",
   "pygments_lexer": "ipython2",
   "version": "2.7.6"
  }
 },
 "nbformat": 4,
 "nbformat_minor": 5
}
